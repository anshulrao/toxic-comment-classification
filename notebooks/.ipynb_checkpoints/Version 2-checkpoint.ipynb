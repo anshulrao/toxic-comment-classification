{
  "metadata": {
    "kernelspec": {
      "language": "python",
      "display_name": "Python 3",
      "name": "python3"
    },
    "language_info": {
      "name": "python",
      "version": "3.7.12",
      "mimetype": "text/x-python",
      "codemirror_mode": {
        "name": "ipython",
        "version": 3
      },
      "pygments_lexer": "ipython3",
      "nbconvert_exporter": "python",
      "file_extension": ".py"
    },
    "colab": {
      "name": "toxic-comment-classification.ipynb",
      "provenance": [],
      "collapsed_sections": []
    }
  },
  "nbformat_minor": 0,
  "nbformat": 4,
  "cells": [
    {
      "cell_type": "code",
      "source": [
        "from sklearn.model_selection import train_test_split\n",
        "from sklearn.feature_extraction.text import TfidfVectorizer\n",
        "from sklearn.naive_bayes import MultinomialNB\n",
        "from sklearn.metrics import hamming_loss\n",
        "from sklearn.metrics import accuracy_score\n",
        "from sklearn.metrics import multilabel_confusion_matrix\n",
        "from sklearn.utils import resample\n",
        "from wordcloud import WordCloud\n",
        "from keras.preprocessing.sequence import pad_sequences\n",
        "from keras.preprocessing.text import Tokenizer\n",
        "from keras.utils.vis_utils import plot_model\n",
        "\n",
        "import numpy as np\n",
        "import seaborn as sns\n",
        "import matplotlib.pyplot as plt\n",
        "import pandas as pd\n",
        "import re\n",
        "import nltk\n",
        "import string\n",
        "import tensorflow as tf\n",
        "\n",
        "sns.set_theme(style=\"darkgrid\")\n",
        "sns.set(font_scale=1.5)\n",
        "nltk.download('omw-1.4')\n",
        "nltk.download('punkt')\n",
        "nltk.download('stopwords')\n",
        "nltk.download('wordnet')"
      ],
      "metadata": {
        "execution": {
          "iopub.status.busy": "2022-08-12T23:46:16.303646Z",
          "iopub.execute_input": "2022-08-12T23:46:16.304136Z",
          "iopub.status.idle": "2022-08-12T23:46:16.321403Z",
          "shell.execute_reply.started": "2022-08-12T23:46:16.304093Z",
          "shell.execute_reply": "2022-08-12T23:46:16.319866Z"
        },
        "trusted": true,
        "colab": {
          "base_uri": "https://localhost:8080/"
        },
        "id": "rHkufkXEfh56",
        "outputId": "f3220efd-ac9d-4667-e2d2-3de592108207"
      },
      "execution_count": 2,
      "outputs": [
        {
          "output_type": "stream",
          "name": "stderr",
          "text": [
            "[nltk_data] Downloading package omw-1.4 to /root/nltk_data...\n",
            "[nltk_data]   Package omw-1.4 is already up-to-date!\n",
            "[nltk_data] Downloading package punkt to /root/nltk_data...\n",
            "[nltk_data]   Package punkt is already up-to-date!\n",
            "[nltk_data] Downloading package stopwords to /root/nltk_data...\n",
            "[nltk_data]   Package stopwords is already up-to-date!\n",
            "[nltk_data] Downloading package wordnet to /root/nltk_data...\n",
            "[nltk_data]   Package wordnet is already up-to-date!\n"
          ]
        },
        {
          "output_type": "execute_result",
          "data": {
            "text/plain": [
              "True"
            ]
          },
          "metadata": {},
          "execution_count": 2
        }
      ]
    },
    {
      "cell_type": "code",
      "source": [
        "# Loading the data.\n",
        "data  =  pd.read_csv('train.csv.zip')"
      ],
      "metadata": {
        "execution": {
          "iopub.status.busy": "2022-08-12T23:46:16.345559Z",
          "iopub.execute_input": "2022-08-12T23:46:16.346907Z",
          "iopub.status.idle": "2022-08-12T23:46:18.075226Z",
          "shell.execute_reply.started": "2022-08-12T23:46:16.346846Z",
          "shell.execute_reply": "2022-08-12T23:46:18.073748Z"
        },
        "trusted": true,
        "id": "0hVTPfwSfh59"
      },
      "execution_count": 3,
      "outputs": []
    },
    {
      "cell_type": "code",
      "source": [
        "# Storing all possible classes/labels.\n",
        "labels = [\"toxic\", \"severe_toxic\", \"obscene\", \"threat\", \"insult\", \"identity_hate\"]"
      ],
      "metadata": {
        "execution": {
          "iopub.status.busy": "2022-08-12T23:46:27.248847Z",
          "iopub.execute_input": "2022-08-12T23:46:27.249376Z",
          "iopub.status.idle": "2022-08-12T23:46:27.255564Z",
          "shell.execute_reply.started": "2022-08-12T23:46:27.249336Z",
          "shell.execute_reply": "2022-08-12T23:46:27.253742Z"
        },
        "trusted": true,
        "id": "JR7NrAo8fh6A"
      },
      "execution_count": 4,
      "outputs": []
    },
    {
      "cell_type": "code",
      "source": [
        "def clean_comment(comment):\n",
        "    \"\"\"\n",
        "    Clean comments in the dataset.\n",
        "    \n",
        "    :param comment: comment string that is present in the input file.\n",
        "    :type  comment: str\n",
        "    :return: string that has been cleaned using Wordnet Lemmatizer, etc. \n",
        "    :rtype: str\n",
        "    \"\"\"\n",
        "    \n",
        "    comment = comment.lower()  # convert to lowercase\n",
        "    comment = re.sub(r'^https?:\\/\\/.*[\\s]*', '', comment)  # remove links\n",
        "    words = nltk.tokenize.word_tokenize(comment)\n",
        "    lemmatizer = nltk.wordnet.WordNetLemmatizer()\n",
        "    stop_words = set(nltk.corpus.stopwords.words('english'))\n",
        "    final_tokens = []\n",
        "    for w in words:\n",
        "        w = \"\".join([\"\" if c in string.punctuation else c for c in w])  # remove punctutation\n",
        "        if w != \"\" and w not in stop_words:  # process only non stopwords\n",
        "            final_tokens.append(lemmatizer.lemmatize(w))  # using WordNet for lemmatizing\n",
        "    cleaned_comment = \" \".join(final_tokens)\n",
        "    return cleaned_comment"
      ],
      "metadata": {
        "execution": {
          "iopub.status.busy": "2022-08-12T23:46:32.728375Z",
          "iopub.execute_input": "2022-08-12T23:46:32.729637Z",
          "iopub.status.idle": "2022-08-12T23:46:32.739076Z",
          "shell.execute_reply.started": "2022-08-12T23:46:32.729583Z",
          "shell.execute_reply": "2022-08-12T23:46:32.737931Z"
        },
        "trusted": true,
        "id": "7Du8DO0Ufh6G"
      },
      "execution_count": 5,
      "outputs": []
    },
    {
      "cell_type": "code",
      "source": [
        "# Clean all the comments in the dataset.\n",
        "data['comment'] = data.apply(lambda r: clean_comment(r.comment_text), axis=1)\n",
        "data.drop('comment_text', inplace=True, axis=1)"
      ],
      "metadata": {
        "execution": {
          "iopub.status.busy": "2022-08-12T23:46:32.740612Z",
          "iopub.execute_input": "2022-08-12T23:46:32.741006Z",
          "iopub.status.idle": "2022-08-12T23:50:21.186242Z",
          "shell.execute_reply.started": "2022-08-12T23:46:32.740972Z",
          "shell.execute_reply": "2022-08-12T23:50:21.184179Z"
        },
        "trusted": true,
        "id": "uAJbqO_wfh6G"
      },
      "execution_count": 6,
      "outputs": []
    },
    {
      "cell_type": "code",
      "source": [
        "# Removing any empty comments.\n",
        "data = data[data['comment'] != \"\"]"
      ],
      "metadata": {
        "execution": {
          "iopub.status.busy": "2022-08-12T23:50:21.189043Z",
          "iopub.execute_input": "2022-08-12T23:50:21.189986Z",
          "iopub.status.idle": "2022-08-12T23:50:21.241697Z",
          "shell.execute_reply.started": "2022-08-12T23:50:21.189934Z",
          "shell.execute_reply": "2022-08-12T23:50:21.240650Z"
        },
        "trusted": true,
        "id": "ZBBCxKgcfh6H"
      },
      "execution_count": 7,
      "outputs": []
    },
    {
      "cell_type": "code",
      "source": [
        "# Split the data into training and test.\n",
        "# 80 percent is used for training and 20 percent is used for testing.\n",
        "\n",
        "X = data['comment']\n",
        "y = data[labels].copy()\n",
        "\n",
        "X_train, X_test, y_train, y_test = train_test_split(X, y, \n",
        "                                                    train_size=0.8, test_size=0.2, \n",
        "                                                    random_state=42, shuffle=True)"
      ],
      "metadata": {
        "execution": {
          "iopub.status.busy": "2022-08-12T23:50:22.409015Z",
          "iopub.execute_input": "2022-08-12T23:50:22.409760Z",
          "iopub.status.idle": "2022-08-12T23:50:22.461311Z",
          "shell.execute_reply.started": "2022-08-12T23:50:22.409710Z",
          "shell.execute_reply": "2022-08-12T23:50:22.459710Z"
        },
        "trusted": true,
        "id": "B4itx0jjfh6K"
      },
      "execution_count": 8,
      "outputs": []
    },
    {
      "cell_type": "code",
      "source": [
        "# As seen during EDA, there was imbalance in the dataset.\n",
        "# So, we'll handle that by resampling the data and see how metrics are affected.\n",
        "# Let's undersample the data.\n",
        "train_data = pd.concat([X_train, y_train], axis=1)\n",
        "non_toxic = train_data[(train_data['toxic'] == 0) & (train_data['severe_toxic'] == 0) & \n",
        "                       (train_data['obscene'] == 0) & (train_data['threat'] == 0) & \n",
        "                       (train_data['insult'] == 0) & (train_data['identity_hate'] == 0)]\n",
        "toxic = pd.merge(train_data, non_toxic, \n",
        "                 how='outer', \n",
        "                 indicator=True).query('_merge == \"left_only\"')\n",
        "toxic.drop(columns=['_merge'], inplace=True)\n",
        "\n",
        "toxic_upsampled = resample(toxic, replace=True, n_samples = non_toxic.shape[0], random_state = 101)\n",
        "data_upsampled = pd.concat([non_toxic, toxic_upsampled]) \n",
        "data_upsampled = data_upsampled.sample(frac=1)"
      ],
      "metadata": {
        "execution": {
          "iopub.status.busy": "2022-08-12T23:50:22.463239Z",
          "iopub.execute_input": "2022-08-12T23:50:22.464186Z",
          "iopub.status.idle": "2022-08-12T23:50:22.923143Z",
          "shell.execute_reply.started": "2022-08-12T23:50:22.464129Z",
          "shell.execute_reply": "2022-08-12T23:50:22.921834Z"
        },
        "trusted": true,
        "id": "aMJI_2Lnfh6L"
      },
      "execution_count": 9,
      "outputs": []
    },
    {
      "cell_type": "code",
      "source": [
        "# Let's also limit the comment length to 500.\n",
        "data_upsampled = data_upsampled[data_upsampled.comment.str.len() <= 500]"
      ],
      "metadata": {
        "execution": {
          "iopub.status.busy": "2022-08-12T23:50:22.924916Z",
          "iopub.execute_input": "2022-08-12T23:50:22.925332Z",
          "iopub.status.idle": "2022-08-12T23:50:23.139418Z",
          "shell.execute_reply.started": "2022-08-12T23:50:22.925295Z",
          "shell.execute_reply": "2022-08-12T23:50:23.137861Z"
        },
        "trusted": true,
        "id": "pI11VQsXfh6L"
      },
      "execution_count": 10,
      "outputs": []
    },
    {
      "cell_type": "code",
      "source": [
        "X_train_upsampled = data_upsampled['comment']\n",
        "y_train_upsampled = data_upsampled[labels]"
      ],
      "metadata": {
        "execution": {
          "iopub.status.busy": "2022-08-12T23:50:23.141089Z",
          "iopub.execute_input": "2022-08-12T23:50:23.141490Z",
          "iopub.status.idle": "2022-08-12T23:50:23.154394Z",
          "shell.execute_reply.started": "2022-08-12T23:50:23.141452Z",
          "shell.execute_reply": "2022-08-12T23:50:23.152666Z"
        },
        "trusted": true,
        "id": "Cgh80gSPfh6M"
      },
      "execution_count": 11,
      "outputs": []
    },
    {
      "cell_type": "code",
      "source": [
        "# Defining some constants.\n",
        "MAX_LEN = 200 # Maximum number of words in a comment to be used.\n",
        "NUM_WORDS = 5000 # Number of unique words to be used.\n",
        "WORD_VEC_SIZE = 100 # Size of each word vector."
      ],
      "metadata": {
        "trusted": true,
        "id": "XNcynQQ1fh6P"
      },
      "execution_count": 12,
      "outputs": []
    },
    {
      "cell_type": "code",
      "source": [
        "# Fit the tokenizer on the training comments.\n",
        "tokenizer = Tokenizer(num_words=NUM_WORDS)\n",
        "tokenizer.fit_on_texts(X_train_upsampled)\n",
        "\n",
        "X_train_upsampled = tokenizer.texts_to_sequences(X_train_upsampled)\n",
        "X_test = tokenizer.texts_to_sequences(X_test)\n",
        "\n",
        "vocab_size = len(tokenizer.word_index) + 1\n",
        "\n",
        "# Pad the the training and test sequences so all of them have the same length.\n",
        "X_train_upsampled = pad_sequences(X_train_upsampled, padding='post', maxlen=MAX_LEN)\n",
        "X_test = pad_sequences(X_test, padding='post', maxlen=MAX_LEN)"
      ],
      "metadata": {
        "trusted": true,
        "id": "VYecOXP4fh6P"
      },
      "execution_count": 13,
      "outputs": []
    },
    {
      "cell_type": "code",
      "source": [
        "# The glove_dictionary contains words vs their respective embeddings.                                                                   #\n",
        "glove_dictionary = dict()\n",
        "with open(\"glove.6B.100d.txt\", encoding=\"utf8\") as f:\n",
        "    for line in f:\n",
        "        line = line.split()\n",
        "        word, coefficients = line[0], line[1:]\n",
        "        glove_dictionary[word] = np.asarray(coefficients, dtype='float32')"
      ],
      "metadata": {
        "trusted": true,
        "id": "AQYLkikOfh6P"
      },
      "execution_count": 15,
      "outputs": []
    },
    {
      "cell_type": "code",
      "source": [
        "# Create the embedding matrix using the glove_dictionary  \n",
        "embedding_matrix = np.zeros((vocab_size, WORD_VEC_SIZE))\n",
        "for word, i in tokenizer.word_index.items():\n",
        "    if word in glove_dictionary:\n",
        "        embedding_matrix[i] = glove_dictionary[word]"
      ],
      "metadata": {
        "trusted": true,
        "id": "oXSdBjemfh6Q"
      },
      "execution_count": 16,
      "outputs": []
    },
    {
      "cell_type": "code",
      "source": [
        "def build_model(embedding_matrix):\n",
        "    \"\"\"\n",
        "    Build the LSTM model.\n",
        "    \n",
        "    :param embedding_matrix: a matrix with the corresponding embedding of all words.\n",
        "    :return: the created LSTM model.\n",
        "    \"\"\"\n",
        "    # Input layer.\n",
        "    inp = tf.keras.layers.Input(shape=(MAX_LEN,), name=\"input\")\n",
        "\n",
        "    # Add embedding layer.\n",
        "    x = tf.keras.layers.Embedding(vocab_size, WORD_VEC_SIZE, \n",
        "                                  weights=[embedding_matrix], \n",
        "                                  trainable=False)(inp)\n",
        "\n",
        "    # Add LSTM layer.\n",
        "    x = tf.keras.layers.LSTM(128)(x)\n",
        "\n",
        "    # Output layer.\n",
        "    x = tf.keras.layers.Dense(6, activation='softmax', name=\"output\")(x)\n",
        "    \n",
        "    model = tf.keras.models.Model(inputs=inp, outputs=x)\n",
        "    \n",
        "    model.compile(loss='categorical_crossentropy', \n",
        "                  optimizer='rmsprop', \n",
        "                  metrics=['acc'])\n",
        "                  \n",
        "    return model"
      ],
      "metadata": {
        "trusted": true,
        "id": "qeHQErljfh6Q"
      },
      "execution_count": 17,
      "outputs": []
    },
    {
      "cell_type": "code",
      "source": [
        "model = build_model(embedding_matrix)\n",
        "model.summary()"
      ],
      "metadata": {
        "trusted": true,
        "id": "nbae-RXEfh6Q",
        "colab": {
          "base_uri": "https://localhost:8080/"
        },
        "outputId": "04693185-b93e-4a0e-bffe-0081060d2b44"
      },
      "execution_count": 18,
      "outputs": [
        {
          "output_type": "stream",
          "name": "stdout",
          "text": [
            "Model: \"model\"\n",
            "_________________________________________________________________\n",
            " Layer (type)                Output Shape              Param #   \n",
            "=================================================================\n",
            " input (InputLayer)          [(None, 200)]             0         \n",
            "                                                                 \n",
            " embedding (Embedding)       (None, 200, 100)          12781200  \n",
            "                                                                 \n",
            " lstm (LSTM)                 (None, 128)               117248    \n",
            "                                                                 \n",
            " output (Dense)              (None, 6)                 774       \n",
            "                                                                 \n",
            "=================================================================\n",
            "Total params: 12,899,222\n",
            "Trainable params: 118,022\n",
            "Non-trainable params: 12,781,200\n",
            "_________________________________________________________________\n"
          ]
        }
      ]
    },
    {
      "cell_type": "code",
      "source": [
        "tf.keras.utils.plot_model(model, to_file='LSTM_model.png', show_shapes=True, \n",
        "                          show_dtype=False, show_layer_names=True, dpi=96)"
      ],
      "metadata": {
        "trusted": true,
        "id": "G0qfUSKefh6R",
        "colab": {
          "base_uri": "https://localhost:8080/",
          "height": 422
        },
        "outputId": "21755371-0633-4c14-ca02-b6583d986105"
      },
      "execution_count": 19,
      "outputs": [
        {
          "output_type": "execute_result",
          "data": {
            "text/plain": [
              "<IPython.core.display.Image object>"
            ],
            "image/png": "[encoded data removed]"
          },
          "metadata": {},
          "execution_count": 19
        }
      ]
    },
    {
      "cell_type": "code",
      "source": [
        "model_fit = model.fit(X_train_upsampled, y_train_upsampled, \n",
        "                      epochs=5, batch_size=128, verbose=1, validation_split=0.2)"
      ],
      "metadata": {
        "trusted": true,
        "id": "WHik4zUMfh6R",
        "colab": {
          "base_uri": "https://localhost:8080/"
        },
        "outputId": "340ee85d-6b0a-43d8-8347-7a31f39ddc55"
      },
      "execution_count": 20,
      "outputs": [
        {
          "output_type": "stream",
          "name": "stdout",
          "text": [
            "Epoch 1/5\n",
            "1297/1297 [==============================] - 772s 594ms/step - loss: 1.5345 - acc: 0.9710 - val_loss: 1.5361 - val_acc: 0.9723\n",
            "Epoch 2/5\n",
            "1297/1297 [==============================] - 767s 592ms/step - loss: 1.5308 - acc: 0.9718 - val_loss: 1.5323 - val_acc: 0.9723\n",
            "Epoch 3/5\n",
            "1297/1297 [==============================] - 768s 592ms/step - loss: 1.5306 - acc: 0.9718 - val_loss: 1.5382 - val_acc: 0.9723\n",
            "Epoch 4/5\n",
            "1297/1297 [==============================] - 766s 591ms/step - loss: 1.5306 - acc: 0.9718 - val_loss: 1.5349 - val_acc: 0.9723\n",
            "Epoch 5/5\n",
            "1297/1297 [==============================] - 765s 590ms/step - loss: 1.5311 - acc: 0.9718 - val_loss: 1.5385 - val_acc: 0.9723\n"
          ]
        }
      ]
    },
    {
      "cell_type": "code",
      "source": [
        "_, accuracy = model.evaluate(X_test, y_test, verbose=1)"
      ],
      "metadata": {
        "trusted": true,
        "id": "ttR6jyrgfh6R",
        "colab": {
          "base_uri": "https://localhost:8080/"
        },
        "outputId": "716c5437-dd89-40e7-f86a-871b433bf272"
      },
      "execution_count": 21,
      "outputs": [
        {
          "output_type": "stream",
          "name": "stdout",
          "text": [
            "997/997 [==============================] - 56s 57ms/step - loss: 0.3084 - acc: 0.9944\n"
          ]
        }
      ]
    },
    {
      "cell_type": "code",
      "source": [
        "accuracy"
      ],
      "metadata": {
        "colab": {
          "base_uri": "https://localhost:8080/"
        },
        "id": "as7cGZdfFQp7",
        "outputId": "cb9ab7f4-9ca2-4836-fda7-de612c907150"
      },
      "execution_count": 25,
      "outputs": [
        {
          "output_type": "execute_result",
          "data": {
            "text/plain": [
              "0.9943878054618835"
            ]
          },
          "metadata": {},
          "execution_count": 25
        }
      ]
    },
    {
      "cell_type": "code",
      "source": [
        "plt.subplots(figsize=(11,6))\n",
        "plt.plot(model_fit.history['loss'], marker='.', color='b', \n",
        "         label= 'train loss')\n",
        "plt.plot(model_fit.history['val_loss'], marker = '+', color = 'g',\n",
        "         label = 'val loss')\n",
        "plt.legend()"
      ],
      "metadata": {
        "trusted": true,
        "id": "jUTfM1Qtfh6R",
        "colab": {
          "base_uri": "https://localhost:8080/",
          "height": 402
        },
        "outputId": "33b4ae5c-0f0d-4f21-90bf-664d0817830b"
      },
      "execution_count": 23,
      "outputs": [
        {
          "output_type": "execute_result",
          "data": {
            "text/plain": [
              "<matplotlib.legend.Legend at 0x7faf218c1590>"
            ]
          },
          "metadata": {},
          "execution_count": 23
        },
        {
          "output_type": "display_data",
          "data": {
            "text/plain": [
              "<Figure size 792x432 with 1 Axes>"
            ],
            "image/png": "[encoded data removed]"
          },
          "metadata": {}
        }
      ]
    },
    {
      "cell_type": "code",
      "source": [
        "plt.subplots(figsize=(11,6))\n",
        "plt.plot(model_fit.history['acc'], marker='.', color='b', \n",
        "         label= 'train accuracy')\n",
        "plt.plot(model_fit.history['val_acc'], marker = '+', color = 'g',\n",
        "         label = 'val accuracy')\n",
        "plt.legend()"
      ],
      "metadata": {
        "trusted": true,
        "id": "dzA-saFSfh6S",
        "colab": {
          "base_uri": "https://localhost:8080/",
          "height": 402
        },
        "outputId": "ea642027-f612-46ac-ccf3-6c1d8fbf0051"
      },
      "execution_count": 24,
      "outputs": [
        {
          "data": {
            "text/plain": [
              "<matplotlib.legend.Legend at 0x7faf24c3e550>"
            ]
          },
          "execution_count": 24,
          "metadata": {},
          "output_type": "execute_result"
        },
        {
          "data": {
            "image/png": "[encoded data removed]",
            "text/plain": [
              "<Figure size 792x432 with 1 Axes>"
            ]
          },
          "metadata": {},
          "output_type": "display_data"
        }
      ]
    }
  ]
}